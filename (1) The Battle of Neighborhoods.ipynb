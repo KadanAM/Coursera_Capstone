{
 "cells": [
  {
   "cell_type": "markdown",
   "metadata": {},
   "source": [
    "## City for a pleasant life"
   ]
  },
  {
   "cell_type": "markdown",
   "metadata": {},
   "source": [
    "### 1. A description of the problem "
   ]
  },
  {
   "cell_type": "markdown",
   "metadata": {},
   "source": [
    "I have a good friend.<br>\n",
    "And I want to help him.\n",
    "***\n",
    "My friend is a famous artist.<br>\n",
    "And now he is looking for a city to which he could go to work.<br>\n",
    "Of course, first of all he is interested in art.<br>\n",
    "As for all people of art, the environment, the atmosphere in which he will live, means a lot to him.\n",
    "* * * * *\n",
    "Suppose they have the opportunity to move to one of several cities. \n",
    "In one of the areas of these cities.\n",
    "Let it be Florence, Stockholm or Minsk.\n",
    "\n",
    "I want, using data analysis, to determine which district of which city will be \n",
    "the most pleasant for my friend's family.\n",
    "* * * * *\n",
    "His family consists of three people - himself, his wife and daughter.\n",
    "And he wants each of them to get what he likes in the new city.\n",
    "* * * * *\n",
    "His wife is a very good cook. He knows the cuisine of different countries. But he wants to know even more.\n",
    "\n",
    "Their daughter loves all the tasty things - juices, ice cream, fruit.\n",
    "\n",
    "My friend is a subtle connoisseur of wine and coffee. But does not like beer."
   ]
  },
  {
   "cell_type": "markdown",
   "metadata": {},
   "source": [
    "#### 1.1. Audience of my project and why they would care about this  problem"
   ]
  },
  {
   "cell_type": "markdown",
   "metadata": {},
   "source": [
    "The audience of my project is people who want to change their place of residence.<br>\n",
    "Or just tourists who want to choose not just a place where you can live for several weeks.<br> \n",
    "For this, sites https://www.booking.com or https://www.airbnb.ru are enough.<br>\n",
    "And the place where it can be done with the greatest pleasure.\n",
    "\n",
    "Why will they take care of this problem?\n",
    "\n",
    "Because it is new for them, interesting and necessary.<br>\n",
    "And it costs almost nothing)"
   ]
  },
  {
   "cell_type": "markdown",
   "metadata": {},
   "source": [
    "### 2. Discussion of the background"
   ]
  },
  {
   "cell_type": "markdown",
   "metadata": {},
   "source": [
    "It is clear that the wife agrees to live in the district of city where there are many cafes and a variety of restaurants - Italian, Indian, Chinese, Japanese ...\n",
    "\n",
    "Daughter - where there are many children's cafes, ice cream cafes, flower shops ...\n",
    "\n",
    "My friend - where there are liquor stores, bars, but not pubs)\n",
    "\n",
    "                         * * * * *\n",
    "                         \n",
    "Obviously, in order to be able to make a decision, the task must be formalized.\n",
    "\n",
    "Let the number of places in the area, pleasant for the wife - W.\n",
    "Number of places pleasant for a child - D.\n",
    "Number of places pleasant for a friend - F.\n",
    "\n",
    "We will also assume that the result of the choice of each family member affects to varying degrees. The coefficient for choosing a friend is f, wives — w, daughters — d. \n",
    "And f + c + d = 1.\n",
    "\n",
    "It is also important to consider how many people live in the area. \n",
    "If there are a lot of them, this is not the best option."
   ]
  },
  {
   "cell_type": "markdown",
   "metadata": {},
   "source": [
    "Thus, the task is reduced to the fact that you need to find a DS district in one of the cities S, such that\n",
    "\n",
    "         R (S, DS) = (F * f + W * w + D * d) / P                     (*)\n",
    "\n",
    "where P is the population of the district, will be the greatest.\n",
    "\n",
    "You can even more detail:\n",
    "\n",
    "         R (S, DS1, ..., DSn) = (F * f + W * w + D * d) / P          (**)"
   ]
  },
  {
   "cell_type": "markdown",
   "metadata": {},
   "source": [
    "### 3. A description of the data"
   ]
  },
  {
   "cell_type": "markdown",
   "metadata": {},
   "source": [
    "\n",
    "Wikipedia (city's districts, population): https://en.wikipedia.org\n",
    "\n",
    "Google Maps Geocoding API: http://geoawesomeness.com/developers-up-in-arms-over-google-maps-api-insane-price-hike/\n",
    " \n",
    "Geographical coordinates for postal codes: http://cocl.us/Geospatial_data\n",
    "\n",
    "Foursquare API: https://api.foursquare.com"
   ]
  },
  {
   "cell_type": "markdown",
   "metadata": {},
   "source": [
    "### 4. How it will be used to solve the problem"
   ]
  },
  {
   "cell_type": "markdown",
   "metadata": {},
   "source": [
    "1. From the pages of Wikipedia to obtain data on the administrative-territorial division of cities.\n",
    "2. About the population of cities and their areas.\n",
    "3. Associate the information found with the geographical coordinates of the areas.\n",
    "4. Get, using the service Foursquare, information about places located in these areas.\n",
    "5. Select those places that interest family members, and count their number.\n",
    "6. Apply the formula (*) or (**) to the found information.\n",
    "7. Choose the best result and recommend it to my friend.\n",
    "\n",
    "8. Listen to his comments (or suggestions) and try to search for information in a new way. "
   ]
  },
  {
   "cell_type": "code",
   "execution_count": null,
   "metadata": {
    "collapsed": true
   },
   "outputs": [],
   "source": []
  }
 ],
 "metadata": {
  "kernelspec": {
   "display_name": "Python [Anaconda3]",
   "language": "python",
   "name": "Python [Anaconda3]"
  },
  "language_info": {
   "codemirror_mode": {
    "name": "ipython",
    "version": 3
   },
   "file_extension": ".py",
   "mimetype": "text/x-python",
   "name": "python",
   "nbconvert_exporter": "python",
   "pygments_lexer": "ipython3",
   "version": "3.5.5"
  }
 },
 "nbformat": 4,
 "nbformat_minor": 2
}
