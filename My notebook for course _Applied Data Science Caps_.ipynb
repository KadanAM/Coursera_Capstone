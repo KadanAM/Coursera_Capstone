{
 "cells": [
  {
   "cell_type": "markdown",
   "metadata": {
    "collapsed": true
   },
   "source": [
    "<p align='center'>Hi !<br><br>\n",
    "My name is Alexander Kadan. \n",
    "<br>I have been working in programming and computer security for some time.\n",
    "I live in a country called Belarus.<br> \n",
    "A beautiful country in the center of Europe. Lots of greenery, flowers, good people.<br><br>\n",
    "It is winter - cold and snow. On this occasion, I decided to study data analysis.<br>\n",
    "Therefore, I am here.<br>\n",
    "And glad that you are here, too, and see soi notebook.\n",
    "<br><br>This notebook will be mainly used for the Capstone project. I hope that the project will be completed very quickly and perfectly :)\n",
    "</p>"
   ]
  },
  {
   "cell_type": "code",
   "execution_count": 1,
   "metadata": {},
   "outputs": [],
   "source": [
    "import pandas as pd\n",
    "import numpy as np\n"
   ]
  },
  {
   "cell_type": "code",
   "execution_count": 2,
   "metadata": {},
   "outputs": [
    {
     "name": "stdout",
     "output_type": "stream",
     "text": [
      "Hello Capstone Project Course!\n"
     ]
    }
   ],
   "source": [
    "print ('Hello Capstone Project Course!')"
   ]
  },
  {
   "cell_type": "code",
   "execution_count": null,
   "metadata": {},
   "outputs": [],
   "source": []
  }
 ],
 "metadata": {
  "kernelspec": {
   "display_name": "Python 3.5",
   "language": "python",
   "name": "python3"
  },
  "language_info": {
   "codemirror_mode": {
    "name": "ipython",
    "version": 3
   },
   "file_extension": ".py",
   "mimetype": "text/x-python",
   "name": "python",
   "nbconvert_exporter": "python",
   "pygments_lexer": "ipython3",
   "version": "3.5.5"
  }
 },
 "nbformat": 4,
 "nbformat_minor": 1
}
